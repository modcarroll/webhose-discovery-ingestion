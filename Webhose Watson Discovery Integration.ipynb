{
 "cells": [
  {
   "cell_type": "markdown",
   "metadata": {},
   "source": [
    "# Webhose Watson Discovery Ingestion"
   ]
  },
  {
   "cell_type": "code",
   "execution_count": null,
   "metadata": {},
   "outputs": [],
   "source": [
    "%%capture\n",
    "!pip install ibm-watson\n",
    "!pip install webhoseio"
   ]
  },
  {
   "cell_type": "code",
   "execution_count": null,
   "metadata": {},
   "outputs": [],
   "source": [
    "import webhoseio\n",
    "import json\n",
    "from ibm_watson import DiscoveryV1\n",
    "from ibm_cloud_sdk_core.authenticators import IAMAuthenticator"
   ]
  },
  {
   "cell_type": "code",
   "execution_count": null,
   "metadata": {},
   "outputs": [],
   "source": [
    "authenticator = IAMAuthenticator('{discovery-api-key}')\n",
    "discovery = DiscoveryV1(\n",
    "    version='2019-04-30',\n",
    "    authenticator=authenticator\n",
    ")\n",
    "\n",
    "discovery.set_service_url('{discovery-url}')"
   ]
  },
  {
   "cell_type": "code",
   "execution_count": null,
   "metadata": {},
   "outputs": [],
   "source": [
    "# Query for competitor queries\n",
    "\n",
    "# add your webhose token below\n",
    "webhoseio.config(token=\"put-your-webhose-token-here\")\n",
    "query_params = {\n",
    "  \"q\": \"\\\"phrase one\\\" OR \\\"phrase two\\\" language:english\",\n",
    "  \"sort\": \"crawled\"\n",
    "}\n",
    "\n",
    "output = webhoseio.query(\"filterWebContent\", query_params)\n",
    "\n",
    "total = int(output['totalResults'])\n",
    "print(\"Total results: \", total)"
   ]
  },
  {
   "cell_type": "code",
   "execution_count": null,
   "metadata": {},
   "outputs": [],
   "source": [
    "for post in output['posts']:\n",
    "    docId = post['uuid']\n",
    "\n",
    "    # print(json.dumps(post, indent=2))\n",
    "\n",
    "    if post['thread']['site_type'] == \"news\" and post['author'] != \"\" and 'adult' not in post['thread']['site_categories']:\n",
    "        # remove pre-enriched data\n",
    "        if 'entities' in post.values():\n",
    "            del post['entities']\n",
    "\n",
    "        # print(json.dumps(post, indent=2))\n",
    "\n",
    "        add_doc = discovery.update_document(\n",
    "            '{discovery-environment-id}',\n",
    "            '{discovery-collection-id}',\n",
    "            docId,\n",
    "            file_content_type='application/json',\n",
    "            filename=docId + '.json',\n",
    "            file=json.dumps(post)).get_result()\n",
    "        print(json.dumps(add_doc, indent=2))\n",
    "\n",
    "output = webhoseio.get_next()"
   ]
  }
 ],
 "metadata": {
  "kernelspec": {
   "display_name": "Python 3",
   "language": "python",
   "name": "python3"
  },
  "language_info": {
   "codemirror_mode": {
    "name": "ipython",
    "version": 3
   },
   "file_extension": ".py",
   "mimetype": "text/x-python",
   "name": "python",
   "nbconvert_exporter": "python",
   "pygments_lexer": "ipython3",
   "version": "3.8.5"
  }
 },
 "nbformat": 4,
 "nbformat_minor": 1
}
